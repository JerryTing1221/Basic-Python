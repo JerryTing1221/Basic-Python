{
 "cells": [
  {
   "cell_type": "markdown",
   "metadata": {},
   "source": [
    "# `if __name__ == '__main__':`\n",
    "### \n",
    "###  `__name__` : python中內建、隱含的變數，不必宣告即可用，當程式是直接執行時，`__name__`的值就是`__main__`，\n",
    "### 當程式是被引用時，`__name__`的值即是`模組名稱`"
   ]
  },
  {
   "cell_type": "code",
   "execution_count": 1,
   "metadata": {},
   "outputs": [
    {
     "name": "stdout",
     "output_type": "stream",
     "text": [
      "歡迎來到程式 hello.py\n",
      "小馬跟你說你好\n"
     ]
    }
   ],
   "source": [
    "# 程式 hello.py\n",
    "def greeting():\n",
    "    print(\"小馬跟你說你好\")\n",
    "    \n",
    "if __name__ == '__main__':\n",
    "    print('歡迎來到程式 hello.py')\n",
    "    greeting()"
   ]
  },
  {
   "cell_type": "code",
   "execution_count": null,
   "metadata": {},
   "outputs": [],
   "source": []
  }
 ],
 "metadata": {
  "kernelspec": {
   "display_name": "Python 3",
   "language": "python",
   "name": "python3"
  },
  "language_info": {
   "codemirror_mode": {
    "name": "ipython",
    "version": 3
   },
   "file_extension": ".py",
   "mimetype": "text/x-python",
   "name": "python",
   "nbconvert_exporter": "python",
   "pygments_lexer": "ipython3",
   "version": "3.8.5"
  }
 },
 "nbformat": 4,
 "nbformat_minor": 4
}
