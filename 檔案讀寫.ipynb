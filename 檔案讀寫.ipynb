{
 "cells": [
  {
   "cell_type": "markdown",
   "metadata": {},
   "source": [
    "# `讀寫 txt 檔`"
   ]
  },
  {
   "cell_type": "markdown",
   "metadata": {},
   "source": [
    "**使用 `f = open('檔案','模式')` 開啟文件** <br>\n",
    "<br>\n",
    "**執行完動作要用 f.close() 關閉檔案**\n",
    " <br>\n",
    " <br>\n",
    " <br>\n",
    "**常用的模式有以下幾種 :**\n",
    "\n",
    "    r  : 讀取\n",
    "    \n",
    "    w  : 寫入 (若檔案存在則清空取代)\n",
    "    \n",
    "    a  : 在既有檔案最後面寫入\n",
    "    \n",
    "    r+ : 讀取資料並且可由開頭寫入 (會取代掉開頭原文字)\n",
    "    \n",
    "    w+ : 同 w 但同時也可讀取\n",
    "    \n",
    "    a+ : 同 a 但同時也可讀取\n",
    " <br>\n",
    " <br>\n",
    " \n",
    "**讀寫內容 :**\n",
    "    \n",
    "    f.read(size)     : 將文字讀取成string(若換行會包含\\n)，其中size為要讀取長度，若不填則讀取全部。\n",
    "    \n",
    "    f.readline()     : 讀取當下游標後的一行文字\n",
    "    \n",
    "    f.readlines()    : 讀取多行，傳回list, element 為每一行的string(最後包含\\n)\n",
    "    \n",
    "    f.write(string)  : 寫入\n",
    "    \n",
    "    f.seek(位移bit數) : 控制游標位置，0:文件最前端, 1:目前游標位置, 2:文件最末端"
   ]
  },
  {
   "cell_type": "markdown",
   "metadata": {},
   "source": [
    "**ex 1.**"
   ]
  },
  {
   "cell_type": "code",
   "execution_count": 3,
   "metadata": {},
   "outputs": [
    {
     "name": "stdout",
     "output_type": "stream",
     "text": [
      "由python 寫入文字\n"
     ]
    }
   ],
   "source": [
    "string = '由python 寫入文字'\n",
    "\n",
    "f = open('txt test.txt','w+')\n",
    "f.write(string)\n",
    "f.seek(0)\n",
    "txt=f.read()\n",
    "f.close()\n",
    "print(txt)"
   ]
  },
  {
   "cell_type": "markdown",
   "metadata": {},
   "source": [
    "### \n",
    "## `with` open( ) `as` f :\n",
    "### - 可以省略 f.close( )，with open() 檔案會自動幫我們執行。"
   ]
  },
  {
   "cell_type": "code",
   "execution_count": 4,
   "metadata": {},
   "outputs": [
    {
     "name": "stdout",
     "output_type": "stream",
     "text": [
      "由python 寫入文字\n"
     ]
    }
   ],
   "source": [
    "with open('txt test.txt', 'r') as f:\n",
    "    print(f.read())"
   ]
  },
  {
   "cell_type": "code",
   "execution_count": null,
   "metadata": {},
   "outputs": [],
   "source": []
  }
 ],
 "metadata": {
  "kernelspec": {
   "display_name": "Python 3",
   "language": "python",
   "name": "python3"
  },
  "language_info": {
   "codemirror_mode": {
    "name": "ipython",
    "version": 3
   },
   "file_extension": ".py",
   "mimetype": "text/x-python",
   "name": "python",
   "nbconvert_exporter": "python",
   "pygments_lexer": "ipython3",
   "version": "3.8.5"
  }
 },
 "nbformat": 4,
 "nbformat_minor": 4
}
